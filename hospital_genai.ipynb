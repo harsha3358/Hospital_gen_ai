{
 "cells": [
  {
   "cell_type": "code",
   "execution_count": 1,
   "id": "fc00aff7-e2fe-4eb4-a86a-14980c832f12",
   "metadata": {},
   "outputs": [],
   "source": [
    "import langchain"
   ]
  },
  {
   "cell_type": "code",
   "execution_count": 2,
   "id": "b55cd906-3544-4a0d-a624-f6d7c0cc6072",
   "metadata": {},
   "outputs": [],
   "source": [
    "import openai"
   ]
  },
  {
   "cell_type": "code",
   "execution_count": 3,
   "id": "e9ac46ca-789d-4e4d-8243-59ebe772379d",
   "metadata": {},
   "outputs": [],
   "source": [
    "import json"
   ]
  },
  {
   "cell_type": "code",
   "execution_count": 4,
   "id": "427f9a9b-f06e-4bda-967d-6292f14efd63",
   "metadata": {},
   "outputs": [],
   "source": [
    "mykey=\"sk-proj-JlmfKSTRyMWIJi77m6uUT3BlbkFJxKzJY33qI00b9RCfktG7\""
   ]
  },
  {
   "cell_type": "code",
   "execution_count": 5,
   "id": "61a281e1-7e23-4bac-a9f1-08e24d366fdd",
   "metadata": {},
   "outputs": [
    {
     "name": "stderr",
     "output_type": "stream",
     "text": [
      "C:\\Users\\HarshaVardhan Reddy\\anaconda3\\envs\\testopenai\\lib\\site-packages\\langchain_core\\_api\\deprecation.py:119: LangChainDeprecationWarning: The class `OpenAI` was deprecated in LangChain 0.0.10 and will be removed in 0.2.0. An updated version of the class exists in the langchain-openai package and should be used instead. To use it run `pip install -U langchain-openai` and import as `from langchain_openai import OpenAI`.\n",
      "  warn_deprecated(\n"
     ]
    }
   ],
   "source": [
    "from langchain import OpenAI\n",
    "client = OpenAI(api_key = mykey)"
   ]
  },
  {
   "cell_type": "code",
   "execution_count": 6,
   "id": "6cb22943-a173-4984-9afd-19714164cd6c",
   "metadata": {},
   "outputs": [],
   "source": [
    "from langchain.memory import ConversationBufferMemory\n",
    "from langchain.prompts import PromptTemplate\n",
    "from langchain.chains import LLMChain\n",
    "from langchain.llms import OpenAI\n",
    "from langchain.chains import SequentialChain"
   ]
  },
  {
   "cell_type": "markdown",
   "id": "c6e59a1f-33e6-4b07-9368-8abcf84afb1f",
   "metadata": {},
   "source": [
    "Patient will input the following details :\n",
    " • Symptoms experienced by the patient\n",
    " • Age of the patient\n",
    " • City of residence\n",
    " • Severity level of the symptoms\n",
    " • The patient will also provide the duration of their symptoms, indicating the number of \n",
    "days they have been experiencing them"
   ]
  },
  {
   "cell_type": "code",
   "execution_count": 7,
   "id": "59e165a6-2731-41d6-b0d9-1ca78887cb63",
   "metadata": {},
   "outputs": [
    {
     "name": "stderr",
     "output_type": "stream",
     "text": [
      "C:\\Users\\HarshaVardhan Reddy\\anaconda3\\envs\\testopenai\\lib\\site-packages\\langchain_core\\_api\\deprecation.py:119: LangChainDeprecationWarning: The class `LLMChain` was deprecated in LangChain 0.1.17 and will be removed in 0.3.0. Use RunnableSequence, e.g., `prompt | llm` instead.\n",
      "  warn_deprecated(\n"
     ]
    }
   ],
   "source": [
    "symptoms_of = PromptTemplate(\n",
    "    input_variables=[\"symptoms\"],\n",
    "    template=\"Can you find the disease according to these symptoms: {symptoms}?\"\n",
    ")\n",
    "\n",
    "chain1 = LLMChain(llm=client, prompt=symptoms_of, output_key=\"symptoms_out\")\n",
    "\n",
    "age_of = PromptTemplate(\n",
    "    input_variables=[\"symptoms_out\", \"age\"],\n",
    "    template=\"Can you guess the health condition of the patient using these symptoms: {symptoms_out} and age: {age}?\"\n",
    ")\n",
    "\n",
    "chain2 = LLMChain(llm=client, prompt=age_of, output_key=\"age_out\")\n",
    "\n",
    "city_of = PromptTemplate(\n",
    "    input_variables=[\"age_out\", \"city\"],\n",
    "    template=\"Can you give me recommendations of hospitals the patient can visit for treatment using this information: age: {age_out} and symptoms: {symptoms_out}, and the current location of the patient: {city}?\"\n",
    ")\n",
    "\n",
    "chain3 = LLMChain(llm=client, prompt=city_of, output_key=\"city_out\")\n",
    "\n",
    "severity_of = PromptTemplate(\n",
    "    input_variables=[\"city_out\", \"severity\"],\n",
    "    template=\"Severity level of the symptoms: {city_out} and severity: {severity}\"\n",
    ")\n",
    "\n",
    "chain4 = LLMChain(llm=client, prompt=severity_of, output_key=\"severity_out\")\n",
    "\n",
    "duration_of = PromptTemplate(\n",
    "    input_variables=[\"severity_out\", \"duration\"],\n",
    "    template=\"Since {duration}, the person is suffering from this: {severity_out}. \"\n",
    ")\n",
    "\n",
    "chain5 = LLMChain(llm=client, prompt=duration_of, output_key=\"duration_out\")\n",
    "\n",
    "chain = SequentialChain(\n",
    "    chains=[chain1, chain2, chain3, chain4, chain5],\n",
    "    input_variables=[\"symptoms\", \"age\", \"city\", \"severity\", \"duration\"],\n",
    "    output_variables=[\"duration_out\"]\n",
    ")\n"
   ]
  },
  {
   "cell_type": "code",
   "execution_count": 10,
   "id": "89c4b019-d0a7-446c-9011-2d41b2ab7603",
   "metadata": {},
   "outputs": [],
   "source": [
    "res = chain({\"symptoms\": \"high body temperature and stomach pain and loose motions\", \"age\": \"24\", \"city\": \"hydrabad\", \"severity\": \"medium stage\" , \"duration\":\"two weeks\"})\n"
   ]
  },
  {
   "cell_type": "code",
   "execution_count": 11,
   "id": "8fd11d08-423a-401d-a0cb-b1674ee2c6e7",
   "metadata": {},
   "outputs": [
    {
     "data": {
      "text/plain": [
       "{'symptoms': 'high body temperature and stomach pain and loose motions',\n",
       " 'age': '24',\n",
       " 'city': 'hydrabad',\n",
       " 'severity': 'medium stage',\n",
       " 'duration': 'two weeks',\n",
       " 'duration_out': '\\n\\nIt is unclear what the person may be suffering from as no specific symptoms or condition is mentioned. It is recommended to consult a healthcare professional for a proper diagnosis and treatment plan.'}"
      ]
     },
     "execution_count": 11,
     "metadata": {},
     "output_type": "execute_result"
    }
   ],
   "source": [
    "res\n"
   ]
  },
  {
   "cell_type": "code",
   "execution_count": null,
   "id": "37de2a5f-fb99-4875-b475-d613c4e38020",
   "metadata": {},
   "outputs": [],
   "source": []
  },
  {
   "cell_type": "code",
   "execution_count": null,
   "id": "720fd885-2edb-47b7-9dd7-16d2dd832f91",
   "metadata": {},
   "outputs": [],
   "source": []
  },
  {
   "cell_type": "code",
   "execution_count": null,
   "id": "3b84774c-3995-4c6d-b929-6ef65030abf7",
   "metadata": {},
   "outputs": [],
   "source": []
  }
 ],
 "metadata": {
  "kernelspec": {
   "display_name": "Python 3 (ipykernel)",
   "language": "python",
   "name": "python3"
  },
  "language_info": {
   "codemirror_mode": {
    "name": "ipython",
    "version": 3
   },
   "file_extension": ".py",
   "mimetype": "text/x-python",
   "name": "python",
   "nbconvert_exporter": "python",
   "pygments_lexer": "ipython3",
   "version": "3.10.14"
  }
 },
 "nbformat": 4,
 "nbformat_minor": 5
}
